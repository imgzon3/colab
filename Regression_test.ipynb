{
  "nbformat": 4,
  "nbformat_minor": 0,
  "metadata": {
    "colab": {
      "name": "Regression_test.ipynb",
      "provenance": [],
      "collapsed_sections": [
        "Lx2gh3wPDYKT",
        "-eOt7ggd0Hoo",
        "amYtdt3a0ZQh",
        "A-bcKQ0e3l0v",
        "633_D7CbN1wD"
      ],
      "toc_visible": true,
      "authorship_tag": "ABX9TyOqNGCUYqUourYsoywd6ro1",
      "include_colab_link": true
    },
    "kernelspec": {
      "name": "python3",
      "display_name": "Python 3"
    }
  },
  "cells": [
    {
      "cell_type": "markdown",
      "metadata": {
        "id": "view-in-github",
        "colab_type": "text"
      },
      "source": [
        "<a href=\"https://colab.research.google.com/github/imgzon3/colab/blob/main/Regression_test.ipynb\" target=\"_parent\"><img src=\"https://colab.research.google.com/assets/colab-badge.svg\" alt=\"Open In Colab\"/></a>"
      ]
    },
    {
      "cell_type": "markdown",
      "metadata": {
        "id": "HCbIhpsPha73"
      },
      "source": [
        "# 선형 회귀\r\n",
        "* 선형 회귀는 크게 정규방정식과 미분으로 방법이 나뉜다.\r\n",
        "* 실제로는 SKlearn을 지원하는 LinearRegression 혹은 SGDRegression을 사용한다"
      ]
    },
    {
      "cell_type": "markdown",
      "metadata": {
        "id": "Jap5p6mW1auy"
      },
      "source": [
        "## 데이터 목록"
      ]
    },
    {
      "cell_type": "code",
      "metadata": {
        "id": "MRqTRvkF1mzx"
      },
      "source": [
        "import numpy as np\r\n",
        "\r\n",
        "# 테스트 데이터 생성\r\n",
        "X = 2 * np.random.rand(100, 1)\r\n",
        "y = 4 + 3*X + np.random.randn(100, 1)\r\n",
        "# 0부터 2 사이의 100개의 데이터를 생성함"
      ],
      "execution_count": 26,
      "outputs": []
    },
    {
      "cell_type": "code",
      "metadata": {
        "colab": {
          "base_uri": "https://localhost:8080/",
          "height": 287
        },
        "id": "31-h7sHW1osf",
        "outputId": "b7aef95d-7aed-47da-caaf-4b416a253b5d"
      },
      "source": [
        "from matplotlib import pyplot as plt\r\n",
        "\r\n",
        "# 테스트 데이터 확인\r\n",
        "plt.plot(X, y, \"b.\")\r\n",
        "plt.xlabel(\"$x_1$\", fontsize=18)\r\n",
        "plt.ylabel(\"$y$\", rotation=0, fontsize=18)\r\n",
        "plt.axis([0, 2, 0, 15])\r\n",
        "plt.show()\r\n",
        "\r\n",
        "X_b = np.c_[np.ones((100, 1)), X] # 모든 샘플에 x0 = 1을 추가해 준다\r\n",
        "X_new = np.array([[0], [2]])\r\n",
        "X_new_b = np.c_[np.ones((2, 1)), X_new] # 모든 샘플에 x0 = 1을 추가합니다."
      ],
      "execution_count": 27,
      "outputs": [
        {
          "output_type": "display_data",
          "data": {
            "image/png": "[encoded data removed]",
            "text/plain": [
              "<Figure size 432x288 with 1 Axes>"
            ]
          },
          "metadata": {
            "tags": [],
            "needs_background": "light"
          }
        }
      ]
    },
    {
      "cell_type": "markdown",
      "metadata": {
        "id": "pC6fgVDm_-vJ"
      },
      "source": [
        "## 정규방정식"
      ]
    },
    {
      "cell_type": "markdown",
      "metadata": {
        "id": "Lx2gh3wPDYKT"
      },
      "source": [
        "#### 정규방정식으로 계산한 경우"
      ]
    },
    {
      "cell_type": "code",
      "metadata": {
        "id": "pi8SsGxhAnv2"
      },
      "source": [
        "theta_best = np.linalg.inv(X_b.T.dot(X_b)).dot(X_b.T).dot(y)"
      ],
      "execution_count": null,
      "outputs": []
    },
    {
      "cell_type": "code",
      "metadata": {
        "colab": {
          "base_uri": "https://localhost:8080/"
        },
        "id": "tWW94nXQDDTE",
        "outputId": "fb346c3c-b108-4805-bd4e-8c8d0afb60ee"
      },
      "source": [
        "theta_best"
      ],
      "execution_count": null,
      "outputs": [
        {
          "output_type": "execute_result",
          "data": {
            "text/plain": [
              "array([[3.67678998],\n",
              "       [3.27186447]])"
            ]
          },
          "metadata": {
            "tags": []
          },
          "execution_count": 13
        }
      ]
    },
    {
      "cell_type": "code",
      "metadata": {
        "colab": {
          "base_uri": "https://localhost:8080/"
        },
        "id": "P3Ze4nPKDE5P",
        "outputId": "0e9ed80e-91ba-41ee-cfd9-0b2cebee6ee4"
      },
      "source": [
        "y_predict = X_new_b.dot(theta_best)\r\n",
        "y_predict"
      ],
      "execution_count": null,
      "outputs": [
        {
          "output_type": "execute_result",
          "data": {
            "text/plain": [
              "array([[ 3.67678998],\n",
              "       [10.22051892]])"
            ]
          },
          "metadata": {
            "tags": []
          },
          "execution_count": 14
        }
      ]
    },
    {
      "cell_type": "markdown",
      "metadata": {
        "id": "BZoqsBwyFjoD"
      },
      "source": [
        "### Sklearn 이용하는 경우"
      ]
    },
    {
      "cell_type": "code",
      "metadata": {
        "colab": {
          "base_uri": "https://localhost:8080/"
        },
        "id": "d-LHrISCFrQL",
        "outputId": "0fd0527b-9362-49c1-f321-7dcb96cc3a57"
      },
      "source": [
        "from sklearn.linear_model import LinearRegression\r\n",
        "lin_reg = LinearRegression()\r\n",
        "lin_reg.fit(X, y)\r\n",
        "lin_reg.intercept_, lin_reg.coef_ # coef는 계수, intercept는 절편\r\n",
        "# 즉, y = ax + b 알 수 있음\r\n",
        "# LinearRegression은 주로 경향을 알아보기 위해 많이 사용함"
      ],
      "execution_count": null,
      "outputs": [
        {
          "output_type": "execute_result",
          "data": {
            "text/plain": [
              "(array([3.67678998]), array([[3.27186447]]))"
            ]
          },
          "metadata": {
            "tags": []
          },
          "execution_count": 15
        }
      ]
    },
    {
      "cell_type": "code",
      "metadata": {
        "colab": {
          "base_uri": "https://localhost:8080/"
        },
        "id": "ARD2nkLwF3st",
        "outputId": "be17c48a-daec-433b-92bc-eecf7a6c4927"
      },
      "source": [
        "lin_reg.predict(X_new)\r\n",
        "# sklearn 이용하여 예측"
      ],
      "execution_count": null,
      "outputs": [
        {
          "output_type": "execute_result",
          "data": {
            "text/plain": [
              "array([[ 3.67678998],\n",
              "       [10.22051892]])"
            ]
          },
          "metadata": {
            "tags": []
          },
          "execution_count": 16
        }
      ]
    },
    {
      "cell_type": "markdown",
      "metadata": {
        "id": "-eOt7ggd0Hoo"
      },
      "source": [
        "## 미분"
      ]
    },
    {
      "cell_type": "markdown",
      "metadata": {
        "id": "amYtdt3a0ZQh"
      },
      "source": [
        "### 배치 경사 하강법"
      ]
    },
    {
      "cell_type": "code",
      "metadata": {
        "id": "VE4qh4tF0d56"
      },
      "source": [
        "eta = 0.1\r\n",
        "n_iterations = 1000\r\n",
        "m = 100\r\n",
        "theta = np.random.randn(2, 1)\r\n",
        "\r\n",
        "for iteration in range(n_iterations):\r\n",
        "  gradients = 2/m * X_b.T.dot(X_b.dot(theta) - y)\r\n",
        "  theta = theta - eta * gradients"
      ],
      "execution_count": null,
      "outputs": []
    },
    {
      "cell_type": "code",
      "metadata": {
        "colab": {
          "base_uri": "https://localhost:8080/"
        },
        "id": "zQqRet-U01g-",
        "outputId": "106a17ab-a4e3-4fec-f592-215032768066"
      },
      "source": [
        "theta"
      ],
      "execution_count": null,
      "outputs": [
        {
          "output_type": "execute_result",
          "data": {
            "text/plain": [
              "array([[3.67678998],\n",
              "       [3.27186447]])"
            ]
          },
          "metadata": {
            "tags": []
          },
          "execution_count": 18
        }
      ]
    },
    {
      "cell_type": "code",
      "metadata": {
        "colab": {
          "base_uri": "https://localhost:8080/"
        },
        "id": "l_RbQaYs1Aln",
        "outputId": "aadccc28-0756-4947-e559-1689dc72caca"
      },
      "source": [
        "X_new_b.dot(theta)"
      ],
      "execution_count": null,
      "outputs": [
        {
          "output_type": "execute_result",
          "data": {
            "text/plain": [
              "array([[ 3.67678998],\n",
              "       [10.22051892]])"
            ]
          },
          "metadata": {
            "tags": []
          },
          "execution_count": 19
        }
      ]
    },
    {
      "cell_type": "markdown",
      "metadata": {
        "id": "A-bcKQ0e3l0v"
      },
      "source": [
        "### SGD(확률적 경사 하강법) numpy로 구현"
      ]
    },
    {
      "cell_type": "code",
      "metadata": {
        "id": "-ej7PiHw3vfv"
      },
      "source": [
        "theta_path_sgd = []\r\n",
        "m = len(X_b)\r\n",
        "np.random.seed(42)"
      ],
      "execution_count": null,
      "outputs": []
    },
    {
      "cell_type": "code",
      "metadata": {
        "id": "Sy9gSQuS33dR",
        "colab": {
          "base_uri": "https://localhost:8080/",
          "height": 287
        },
        "outputId": "3f11e614-acb9-4986-e386-1578ca706863"
      },
      "source": [
        "n_epochs = 50\r\n",
        "t0, t1 = 5, 50 # 학습 스케줄 하이퍼 파라미터\r\n",
        "\r\n",
        "def learning_schedule(t):  # 0.1에서 시작, t가 커질 수록 점점 줄어듬\r\n",
        "  return t0 / (t + t1)\r\n",
        "\r\n",
        "theta = np.random.randn(2, 1) # 무작위 초기화\r\n",
        "\r\n",
        "for epoch in range(n_epochs):\r\n",
        "  for i in range(m): # 1 에폭마다 훈련 샘플 개수만큼 반복 함\r\n",
        "    # 여기서부터\r\n",
        "    if epoch == 0 and i < 20:\r\n",
        "      y_predict = X_new_b.dot(theta)\r\n",
        "      style = \"b-\" if i > 0 else \"r--\"\r\n",
        "      plt.plot(X_new, y_predict, style)\r\n",
        "    # 여기까지는 그냥 그래프 그리는데 필요한 것\r\n",
        "\r\n",
        "    random_index = np.random.randint(m)\r\n",
        "    xi = X_b[random_index:random_index+1] # 슬라이싱하여 2D배열 추출함\r\n",
        "    yi = y[random_index:random_index+1]\r\n",
        "    gradients = 2 * xi.T.dot(xi.dot(theta) - yi)\r\n",
        "    eta = learning_schedule(epoch * m + i)\r\n",
        "    theta = theta - eta * gradients\r\n",
        "    theta_path_sgd.append(theta)\r\n",
        "\r\n",
        "plt.plot(X,y,\"b.\")\r\n",
        "plt.xlabel(\"$x_1$\", fontsize=18)\r\n",
        "plt.ylabel(\"$y$\", rotation=0, fontsize=18)\r\n",
        "plt.axis([0, 2, 0, 15])\r\n",
        "plt.show()"
      ],
      "execution_count": 25,
      "outputs": [
        {
          "output_type": "display_data",
          "data": {
            "image/png": "[encoded data removed]",
            "text/plain": [
              "<Figure size 432x288 with 1 Axes>"
            ]
          },
          "metadata": {
            "tags": [],
            "needs_background": "light"
          }
        }
      ]
    },
    {
      "cell_type": "markdown",
      "metadata": {
        "id": "633_D7CbN1wD"
      },
      "source": [
        "### SGD Sklearn으로 구현"
      ]
    },
    {
      "cell_type": "code",
      "metadata": {
        "colab": {
          "base_uri": "https://localhost:8080/"
        },
        "id": "2K17vSweN6kp",
        "outputId": "22ee8ccf-b609-40c2-910c-373c69d90dd1"
      },
      "source": [
        "from sklearn.linear_model import SGDRegressor\r\n",
        "sgd_reg = SGDRegressor(max_iter=50, penalty=None, eta0=0.1, random_state=42)\r\n",
        "sgd_reg.fit(X, y.ravel())"
      ],
      "execution_count": 29,
      "outputs": [
        {
          "output_type": "execute_result",
          "data": {
            "text/plain": [
              "SGDRegressor(alpha=0.0001, average=False, early_stopping=False, epsilon=0.1,\n",
              "             eta0=0.1, fit_intercept=True, l1_ratio=0.15,\n",
              "             learning_rate='invscaling', loss='squared_loss', max_iter=50,\n",
              "             n_iter_no_change=5, penalty=None, power_t=0.25, random_state=42,\n",
              "             shuffle=True, tol=0.001, validation_fraction=0.1, verbose=0,\n",
              "             warm_start=False)"
            ]
          },
          "metadata": {
            "tags": []
          },
          "execution_count": 29
        }
      ]
    },
    {
      "cell_type": "code",
      "metadata": {
        "colab": {
          "base_uri": "https://localhost:8080/"
        },
        "id": "aQPtnMbCOXpp",
        "outputId": "14de1f17-ae33-4532-90a3-39f594c929e6"
      },
      "source": [
        "sgd_reg.intercept_, sgd_reg.coef_"
      ],
      "execution_count": 30,
      "outputs": [
        {
          "output_type": "execute_result",
          "data": {
            "text/plain": [
              "(array([3.90750683]), array([3.17006179]))"
            ]
          },
          "metadata": {
            "tags": []
          },
          "execution_count": 30
        }
      ]
    },
    {
      "cell_type": "markdown",
      "metadata": {
        "id": "y3k9Rwq-RbSr"
      },
      "source": [
        "# 다항 회귀\r\n",
        "* 고차항의 특성을 지니고 있는 데이터의 경우 사용"
      ]
    },
    {
      "cell_type": "markdown",
      "metadata": {
        "id": "zCsq7G_NSgMr"
      },
      "source": [
        "## 데이터 목록"
      ]
    },
    {
      "cell_type": "code",
      "metadata": {
        "id": "zrKOPjWrSi5F"
      },
      "source": [
        "# y = 0.5 * x**2 + x + 2 + Noise\r\n",
        "import numpy as np\r\n",
        "m = 100\r\n",
        "X = 6 * np.random.rand(m, 1) - 3\r\n",
        "y = 0.5 * X**2 + X + 2 + np.random.randn(m, 1)"
      ],
      "execution_count": 40,
      "outputs": []
    },
    {
      "cell_type": "code",
      "metadata": {
        "colab": {
          "base_uri": "https://localhost:8080/",
          "height": 291
        },
        "id": "vzgwEyJ7S5-Y",
        "outputId": "67c63d84-740c-4781-db3a-3ed958147b9a"
      },
      "source": [
        "plt.plot(X, y, \"b.\")\r\n",
        "plt.xlabel(\"$x_1$\", fontsize=18)\r\n",
        "plt.ylabel(\"$y$\", rotation=0, fontsize=18)\r\n",
        "plt.axis([-3, 3, 0, 10])\r\n",
        "plt.show()"
      ],
      "execution_count": 41,
      "outputs": [
        {
          "output_type": "display_data",
          "data": {
            "image/png": "[encoded data removed]",
            "text/plain": [
              "<Figure size 432x288 with 1 Axes>"
            ]
          },
          "metadata": {
            "tags": [],
            "needs_background": "light"
          }
        }
      ]
    },
    {
      "cell_type": "markdown",
      "metadata": {
        "id": "xJEonzoDTmGt"
      },
      "source": [
        "### PolynomialFeatures(sklearn)"
      ]
    },
    {
      "cell_type": "code",
      "metadata": {
        "colab": {
          "base_uri": "https://localhost:8080/"
        },
        "id": "g6c7Mmr2Tt4Z",
        "outputId": "47c3e112-3898-4e7e-c4f0-d9deefb3e9eb"
      },
      "source": [
        "from sklearn.preprocessing import PolynomialFeatures\r\n",
        "poly_features = PolynomialFeatures(degree=2, include_bias=False) # 2차항식\r\n",
        "X_poly = poly_features.fit_transform(X)\r\n",
        "# 일반적으로 sklearn에서 fit은 학습\r\n",
        "# transform은 변환한다는 의미\r\n",
        "# 즉, fit_transform 은 뭔지는 모르겠지만 학습하고, 변환한다는 의미\r\n",
        "X[0]"
      ],
      "execution_count": 42,
      "outputs": [
        {
          "output_type": "execute_result",
          "data": {
            "text/plain": [
              "array([-0.04308249])"
            ]
          },
          "metadata": {
            "tags": []
          },
          "execution_count": 42
        }
      ]
    },
    {
      "cell_type": "code",
      "metadata": {
        "colab": {
          "base_uri": "https://localhost:8080/"
        },
        "id": "JPycP8dTUhx0",
        "outputId": "f3eeb153-077b-42b1-974e-392d59bfe0f8"
      },
      "source": [
        "X_poly[0]"
      ],
      "execution_count": 36,
      "outputs": [
        {
          "output_type": "execute_result",
          "data": {
            "text/plain": [
              "array([-1.32978911,  1.76833908])"
            ]
          },
          "metadata": {
            "tags": []
          },
          "execution_count": 36
        }
      ]
    },
    {
      "cell_type": "code",
      "metadata": {
        "colab": {
          "base_uri": "https://localhost:8080/"
        },
        "id": "818Mck4oUlDy",
        "outputId": "0e92865e-fc08-4792-bd4d-45b1b117d5fa"
      },
      "source": [
        "poly_features.get_feature_names()"
      ],
      "execution_count": 37,
      "outputs": [
        {
          "output_type": "execute_result",
          "data": {
            "text/plain": [
              "['x0', 'x0^2']"
            ]
          },
          "metadata": {
            "tags": []
          },
          "execution_count": 37
        }
      ]
    },
    {
      "cell_type": "markdown",
      "metadata": {
        "id": "TMmrGV4uXJcR"
      },
      "source": [
        "### LinearRegression + X_poly"
      ]
    },
    {
      "cell_type": "code",
      "metadata": {
        "colab": {
          "base_uri": "https://localhost:8080/"
        },
        "id": "YdXjZOHaXUli",
        "outputId": "ca3e9f8f-c2bb-4dc2-d2c7-eb459b268b56"
      },
      "source": [
        "from sklearn.linear_model import LinearRegression\r\n",
        "lin_reg = LinearRegression()\r\n",
        "lin_reg.fit(X_poly, y) # 위에서 전처리된 데이터 입력\r\n",
        "lin_reg.intercept_, lin_reg.coef_"
      ],
      "execution_count": 43,
      "outputs": [
        {
          "output_type": "execute_result",
          "data": {
            "text/plain": [
              "(array([2.20174389]), array([[1.02389647, 0.42329455]]))"
            ]
          },
          "metadata": {
            "tags": []
          },
          "execution_count": 43
        }
      ]
    },
    {
      "cell_type": "code",
      "metadata": {
        "colab": {
          "base_uri": "https://localhost:8080/",
          "height": 291
        },
        "id": "sumF96_YXi1-",
        "outputId": "0f5feb31-c893-4a5a-e719-a17f0f347ebf"
      },
      "source": [
        "X_new=np.linspace(-3, 3, 100).reshape(100, 1)\r\n",
        "X_new_poly = poly_features.transform(X_new)\r\n",
        "y_new = lin_reg.predict(X_new_poly)\r\n",
        "\r\n",
        "# 그래프 그려보기\r\n",
        "plt.plot(X, y, \"b.\")\r\n",
        "plt.plot(X_new, y_new, \"r-\", linewidth=2, label=\"predict\")\r\n",
        "plt.xlabel('$x_1$', fontsize=18)\r\n",
        "plt.ylabel(\"$y$\", rotation=0, fontsize=18)\r\n",
        "plt.legend(loc=\"upper left\", fontsize=14)\r\n",
        "plt.axis([-3, 3, 0, 10])\r\n",
        "plt.show()"
      ],
      "execution_count": 45,
      "outputs": [
        {
          "output_type": "display_data",
          "data": {
            "image/png": "[encoded data removed]",
            "text/plain": [
              "<Figure size 432x288 with 1 Axes>"
            ]
          },
          "metadata": {
            "tags": [],
            "needs_background": "light"
          }
        }
      ]
    }
  ]
}