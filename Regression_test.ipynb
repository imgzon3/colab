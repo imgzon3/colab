{
  "nbformat": 4,
  "nbformat_minor": 0,
  "metadata": {
    "colab": {
      "name": "Regression_test.ipynb",
      "provenance": [],
      "toc_visible": true,
      "authorship_tag": "ABX9TyOde4zILMlA/v8I4wK4QpL/",
      "include_colab_link": true
    },
    "kernelspec": {
      "name": "python3",
      "display_name": "Python 3"
    }
  },
  "cells": [
    {
      "cell_type": "markdown",
      "metadata": {
        "id": "view-in-github",
        "colab_type": "text"
      },
      "source": [
        "<a href=\"https://colab.research.google.com/github/imgzon3/colab/blob/main/Regression_test.ipynb\" target=\"_parent\"><img src=\"https://colab.research.google.com/assets/colab-badge.svg\" alt=\"Open In Colab\"/></a>"
      ]
    },
    {
      "cell_type": "markdown",
      "metadata": {
        "id": "HCbIhpsPha73"
      },
      "source": [
        "# 선형 회귀\r\n",
        ">선형 회귀는 크게 정규방정식과 미분으로 방법이 나뉜다."
      ]
    },
    {
      "cell_type": "markdown",
      "metadata": {
        "id": "pC6fgVDm_-vJ"
      },
      "source": [
        "## 정규방정식"
      ]
    },
    {
      "cell_type": "code",
      "metadata": {
        "id": "7mwYo4KtAFEp"
      },
      "source": [
        "import numpy as np\r\n",
        "\r\n",
        "# 테스트 데이터 생성\r\n",
        "X = 2 * np.random.rand(100, 1)\r\n",
        "y = 4 + 3*X + np.random.randn(100, 1)\r\n",
        "# 0부터 2 사이의 100개의 데이터를 생성함"
      ],
      "execution_count": 13,
      "outputs": []
    },
    {
      "cell_type": "code",
      "metadata": {
        "colab": {
          "base_uri": "https://localhost:8080/",
          "height": 287
        },
        "id": "q1rt-3NfAKNj",
        "outputId": "b59e4813-8955-4f43-8049-39db9594e139"
      },
      "source": [
        "from matplotlib import pyplot as plt\r\n",
        "\r\n",
        "# 테스트 데이터 확인\r\n",
        "plt.plot(X, y, \"b.\")\r\n",
        "plt.xlabel(\"$x_1$\", fontsize=18)\r\n",
        "plt.ylabel(\"$y$\", rotation=0, fontsize=18)\r\n",
        "plt.axis([0, 2, 0, 15])\r\n",
        "plt.show()"
      ],
      "execution_count": 10,
      "outputs": [
        {
          "output_type": "display_data",
          "data": {
            "image/png": "[encoded data removed]",
            "text/plain": [
              "<Figure size 432x288 with 1 Axes>"
            ]
          },
          "metadata": {
            "tags": [],
            "needs_background": "light"
          }
        }
      ]
    },
    {
      "cell_type": "markdown",
      "metadata": {
        "id": "Lx2gh3wPDYKT"
      },
      "source": [
        "#### 정규방정식으로 계산한 경우"
      ]
    },
    {
      "cell_type": "code",
      "metadata": {
        "id": "pi8SsGxhAnv2"
      },
      "source": [
        "X_b = np.c_[np.ones((100, 1)), X] # 모든 샘플에 x0 = 1을 추가해 준다\r\n",
        "theta_best = np.linalg.inv(X_b.T.dot(X_b)).dot(X_b.T).dot(y)"
      ],
      "execution_count": 11,
      "outputs": []
    },
    {
      "cell_type": "code",
      "metadata": {
        "colab": {
          "base_uri": "https://localhost:8080/"
        },
        "id": "tWW94nXQDDTE",
        "outputId": "bfe65408-97f0-45f6-f1d7-f7b2d96a9afa"
      },
      "source": [
        "theta_best"
      ],
      "execution_count": 12,
      "outputs": [
        {
          "output_type": "execute_result",
          "data": {
            "text/plain": [
              "array([[4.02642272],\n",
              "       [3.01445513]])"
            ]
          },
          "metadata": {
            "tags": []
          },
          "execution_count": 12
        }
      ]
    },
    {
      "cell_type": "code",
      "metadata": {
        "colab": {
          "base_uri": "https://localhost:8080/"
        },
        "id": "P3Ze4nPKDE5P",
        "outputId": "a3a61cd0-dc4b-43a4-c1b7-a5c3915cd5a7"
      },
      "source": [
        "X_new = np.array([[0], [2]])\r\n",
        "X_new_b = np.c_[np.ones((2, 1)), X_new] # 모든 샘플에 x0 = 1을 추가합니다.\r\n",
        "# print(X_new_b)\r\n",
        "y_predict = X_new_b.dot(theta_best)\r\n",
        "y_predict"
      ],
      "execution_count": 18,
      "outputs": [
        {
          "output_type": "execute_result",
          "data": {
            "text/plain": [
              "array([[ 4.02642272],\n",
              "       [10.05533298]])"
            ]
          },
          "metadata": {
            "tags": []
          },
          "execution_count": 18
        }
      ]
    },
    {
      "cell_type": "code",
      "metadata": {
        "id": "nzHYy6swEdGM"
      },
      "source": [
        ""
      ],
      "execution_count": null,
      "outputs": []
    }
  ]
}